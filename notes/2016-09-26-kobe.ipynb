{
 "cells": [
  {
   "cell_type": "markdown",
   "metadata": {},
   "source": [
    "# 神戸市人口\n",
    "\n",
    "神戸市のオープンデータに[年齢別の人口データ](http://www.city.kobe.lg.jp/information/data/statistics/toukei/jinkou/juukijinkou.html)があります。地域差は結構ありそうな予感があるので、可視化して眺めてみたいと思います。"
   ]
  },
  {
   "cell_type": "code",
   "execution_count": null,
   "metadata": {
    "collapsed": false
   },
   "outputs": [],
   "source": [
    "import pandas as pd\n",
    "import geopandas as gpd\n",
    "import sqlite3\n",
    "import json\n",
    "import numpy\n",
    "import sklearn.decomposition\n",
    "from shapely.geometry import Point\n",
    "from matplotlib import pyplot as plt"
   ]
  },
  {
   "cell_type": "code",
   "execution_count": null,
   "metadata": {
    "collapsed": false
   },
   "outputs": [],
   "source": [
    "# この部分は環境依存なので適宜調整してください\n",
    "%matplotlib inline\n",
    "import matplotlib\n",
    "jafont=matplotlib.font_manager.FontProperties(fname=\"ipaexg.ttf\")\n",
    "ja = dict(fontproperties=jafont)"
   ]
  },
  {
   "cell_type": "code",
   "execution_count": null,
   "metadata": {
    "collapsed": true
   },
   "outputs": [],
   "source": [
    "def load_zensi(fname):\n",
    "    e = pd.ExcelFile(fname)\n",
    "    opts = dict(skiprows=1, converters={\"区コード\":str, \"町コード\":str})\n",
    "    dfs = [e.parse(s, **opts).iloc[1:,:] for s in e.sheet_names if s != \"神戸市\"]\n",
    "    return gpd.GeoDataFrame(pd.concat(dfs, ignore_index=True))"
   ]
  },
  {
   "cell_type": "markdown",
   "metadata": {},
   "source": [
    "一番新しいデータで分析してみます。"
   ]
  },
  {
   "cell_type": "code",
   "execution_count": null,
   "metadata": {
    "collapsed": false
   },
   "outputs": [],
   "source": [
    "data0 = load_zensi(\"../data/kobe/zensi2808.xls\")"
   ]
  },
  {
   "cell_type": "code",
   "execution_count": null,
   "metadata": {
    "collapsed": false
   },
   "outputs": [],
   "source": [
    "ages=[\"%d歳\" % i for i in range(100)]+[\"100歳以上\"]"
   ]
  },
  {
   "cell_type": "markdown",
   "metadata": {},
   "source": [
    "## 年齢別の人口\n",
    "\n",
    "神戸市全体で概形を見てみます。"
   ]
  },
  {
   "cell_type": "code",
   "execution_count": null,
   "metadata": {
    "collapsed": false
   },
   "outputs": [],
   "source": [
    "plt.plot(data0[ages].sum().values)\n",
    "plt.title(\"神戸市全体の年齢別人口\", **ja)\n",
    "plt.xlabel(\"年齢\", **ja)\n",
    "plt.ylabel(\"人数\", **ja)"
   ]
  },
  {
   "cell_type": "markdown",
   "metadata": {},
   "source": [
    "統計の集計単位の、区・支所ごとで分類して見てみます。"
   ]
  },
  {
   "cell_type": "code",
   "execution_count": null,
   "metadata": {
    "collapsed": false
   },
   "outputs": [],
   "source": [
    "data0g = data0.groupby(\"区・支所\")[ages].sum()\n",
    "plt.plot(data0g.T.values)\n",
    "plt.title(\"区・支所ごとの年齢別人口\", **ja)\n",
    "plt.xlabel(\"年齢\", **ja)\n",
    "plt.ylabel(\"人数\", **ja)\n",
    "plt.legend(data0g.index, prop=jafont)"
   ]
  },
  {
   "cell_type": "markdown",
   "metadata": {},
   "source": [
    "こうして見てみると、同じような成分が共通してみられます。一方で、例えば中央区と西区では子供の20歳以下の分布の形は大きく違います。年齢別の分布には実際に地域差がありそうです。\n",
    "\n",
    "## 成分分析\n",
    "\n",
    "NMF という手法で成分を分離してみます。"
   ]
  },
  {
   "cell_type": "code",
   "execution_count": null,
   "metadata": {
    "collapsed": false
   },
   "outputs": [],
   "source": [
    "data1 = data0[data0[ages].isnull().any(axis=1)==False]\n",
    "\n",
    "import sklearn.decomposition\n",
    "m = sklearn.decomposition.NMF(3)\n",
    "o = m.fit_transform(data1[ages])"
   ]
  },
  {
   "cell_type": "code",
   "execution_count": null,
   "metadata": {
    "collapsed": false
   },
   "outputs": [],
   "source": [
    "plt.plot(sorted(numpy.linalg.norm(o, axis=1)), \".-\")\n",
    "plt.yscale(\"log\")"
   ]
  },
  {
   "cell_type": "markdown",
   "metadata": {},
   "source": [
    "3成分に分解した各成分（年齢分布）をプロットしてみます。"
   ]
  },
  {
   "cell_type": "code",
   "execution_count": null,
   "metadata": {
    "collapsed": false
   },
   "outputs": [],
   "source": [
    "cc = [\"rbg\"[i] for i in pd.DataFrame(m.components_.dot([i*2 for i in range(101)]),\n",
    "    columns=[\"sort_key\"]).sort_values(\"sort_key\", ascending=False).index]"
   ]
  },
  {
   "cell_type": "code",
   "execution_count": null,
   "metadata": {
    "collapsed": false
   },
   "outputs": [],
   "source": [
    "for i,r in enumerate(m.components_):\n",
    "    plt.plot(r, color=cc[i])\n",
    "\n",
    "plt.title(\"3成分分解時の各成分\", **ja)"
   ]
  },
  {
   "cell_type": "markdown",
   "metadata": {},
   "source": [
    "集計地区単位ごとに、どのような重みづけで分布しているかをプロットしてみます。"
   ]
  },
  {
   "cell_type": "code",
   "execution_count": null,
   "metadata": {
    "collapsed": false
   },
   "outputs": [],
   "source": [
    "o2=sklearn.preprocessing.normalize(o)\n",
    "o3=pd.DataFrame(o2, columns=cc)\n",
    "c = o3.apply(lambda r:\"#%02x%02x%02x\" % tuple([int(r.get(k, 0)*255) for k in \"rgb\"]), axis=1)\n",
    "plt.scatter(o2[:,0], o2[:,1], color=c)"
   ]
  },
  {
   "cell_type": "markdown",
   "metadata": {},
   "source": [
    "## 地図上にプロット\n",
    "\n",
    "地図上にこの集団をプロットしてみます。町名から緯度経度（代表点）を求めます。"
   ]
  },
  {
   "cell_type": "code",
   "execution_count": null,
   "metadata": {
    "collapsed": false
   },
   "outputs": [],
   "source": [
    "qname = data0.apply(lambda r:\"神戸市 %s %s\" % (r[\"区・支所\"].replace(\"支所\",\"\"), r[\"町名\"]), axis=1)\n",
    "try:\n",
    "    cache = pd.read_json(open(\"../cache/kobe.json\", encoding=\"UTF-8\")).T\n",
    "except:\n",
    "    cache = pd.DataFrame([], columns=[\"lat\", \"lng\"])\n",
    "\n",
    "loc = pd.DataFrame(qname, columns=[\"qname\"]).join(cache, on=\"qname\")"
   ]
  },
  {
   "cell_type": "code",
   "execution_count": null,
   "metadata": {
    "collapsed": false
   },
   "outputs": [],
   "source": [
    "## To rebuild cache/kobe.json, save qname\n",
    "# loc[loc[[\"lat\",\"lng\"]].isnull().any(axis=1)][\"qname\"]"
   ]
  },
  {
   "cell_type": "code",
   "execution_count": null,
   "metadata": {
    "collapsed": false
   },
   "outputs": [],
   "source": [
    "geo = gpd.GeoDataFrame(pd.concat([data0, loc], axis=1))\n",
    "data1 = geo[geo[[\"lat\",\"lng\"]].isnull().any(axis=1)==False]\n",
    "pt = pd.DataFrame(data1.apply(lambda r:Point(r[\"lng\"], r[\"lat\"]), axis=1), columns=[\"geometry\"])\n",
    "data2 = gpd.GeoDataFrame(pd.concat([data1, pt], axis=1), crs=\"+init=epsg:4326\")"
   ]
  },
  {
   "cell_type": "markdown",
   "metadata": {},
   "source": [
    "e-Stat の区域データを使って区の外形線を取り出します。"
   ]
  },
  {
   "cell_type": "code",
   "execution_count": null,
   "metadata": {
    "collapsed": false
   },
   "outputs": [],
   "source": [
    "pib_fs = [\"../data/estat/h22ka281%02d.shp\" % i for i in [1,2,5,6,7,8,9,10,11]]\n",
    "us = [gpd.read_file(f) for f in pib_fs]\n",
    "crs = us[0].crs\n",
    "pib = gpd.GeoDataFrame(pd.concat(us, ignore_index=True), crs=crs)\n",
    "pib2 = pib[(pib[\"MOJI\"]!=\"水面\") & (pib[\"MOJI\"].isnull()==False)] # 海上を取り除く\n",
    "css = list(set(pib2[\"CSS_NAME\"])) # 区の名前一覧\n",
    "\n",
    "import functools\n",
    "pib3 = gpd.GeoDataFrame([{\"geometry\":functools.reduce(lambda x,y:x.union(y), pib2[pib2[\"CSS_NAME\"]==a].geometry), \"CSS_NAME\":a} for a in css])"
   ]
  },
  {
   "cell_type": "code",
   "execution_count": null,
   "metadata": {
    "collapsed": false
   },
   "outputs": [],
   "source": [
    "pib3.plot(alpha=0)\n",
    "pt2 = data2.to_crs(crs)\n",
    "plt.scatter(pt2.geometry.bounds.minx, pt2.geometry.bounds.miny, color=c, alpha=1.0)"
   ]
  },
  {
   "cell_type": "markdown",
   "metadata": {},
   "source": [
    "地図をみる専用のアプリケーションのほうが状況がよく見えそうです。"
   ]
  }
 ],
 "metadata": {
  "anaconda-cloud": {},
  "kernelspec": {
   "display_name": "Python [geo]",
   "language": "python",
   "name": "Python [geo]"
  },
  "language_info": {
   "codemirror_mode": {
    "name": "ipython",
    "version": 3
   },
   "file_extension": ".py",
   "mimetype": "text/x-python",
   "name": "python",
   "nbconvert_exporter": "python",
   "pygments_lexer": "ipython3",
   "version": "3.5.2"
  }
 },
 "nbformat": 4,
 "nbformat_minor": 0
}
