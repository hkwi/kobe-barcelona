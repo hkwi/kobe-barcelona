{
 "cells": [
  {
   "cell_type": "markdown",
   "metadata": {},
   "source": [
    "[前回](http://hkwi.github.io/kobe-barcelona/app/2016/10/01/preschool.html)の結果で待機児童の状況は、年齢が上がるごとに地域的な状況は大きく違うことが見て取れた。"
   ]
  },
  {
   "cell_type": "code",
   "execution_count": 1,
   "metadata": {
    "collapsed": true
   },
   "outputs": [],
   "source": [
    "%matplotlib inline"
   ]
  },
  {
   "cell_type": "code",
   "execution_count": 2,
   "metadata": {
    "collapsed": true
   },
   "outputs": [],
   "source": [
    "import re\n",
    "import glob\n",
    "import pandas as pd\n",
    "import geopandas as gpd\n",
    "import scipy.spatial\n",
    "import numpy\n",
    "import math\n",
    "from matplotlib import pyplot as plt\n",
    "from shapely.geometry import Point, Polygon"
   ]
  },
  {
   "cell_type": "markdown",
   "metadata": {},
   "source": [
    "再び最新のデータを分析する。"
   ]
  },
  {
   "cell_type": "code",
   "execution_count": 3,
   "metadata": {
    "collapsed": false
   },
   "outputs": [],
   "source": [
    "nib = gpd.read_file(\"../data/hkwi/shinseido-2016-09.json\")\n",
    "\n",
    "#\"状況,利用定員（２・３号）\"は本園に合算されているので使わない\n",
    "k1 = [\"状況,合計\", \"１号,認可定員(全体)\", \"２号３号,利用定員（2・3号）\"]\n",
    "k2 = [\"状況,申込児童数 %s歳児\" % \"０１２３４５\"[i] for i in range(6)]\n",
    "k3 = [\"%d歳\" % i for i in range(6)]\n",
    "k4 = [\"状況,入所の可能性 %s歳児\" % i for i in \"０１２３４５\"]\n",
    "\n",
    "# nib のセルのいくつかは数値に補足情報が付いているので、除去する\n",
    "def drop_notes(c):\n",
    "    if c is not None and len(c):\n",
    "        m = re.match(r'^(\\d+)\\s*[（\\()]内地域枠\\d+[）\\)]$', c)\n",
    "        if m:\n",
    "            return int(m.group(1))\n",
    "        elif c[-1] in \"*＊\":\n",
    "            return int(c[:-1])\n",
    "        else:\n",
    "            return int(c)\n",
    "    return None\n",
    "\n",
    "for k in k1+k2:\n",
    "    nib[k] = nib[k].apply(drop_notes)"
   ]
  },
  {
   "cell_type": "markdown",
   "metadata": {},
   "source": [
    "施設によって、受け入れている年齢がバラバラになっていることが、次の表から見て取れる。理由の一つはきっとこれだろう。地域や年齢によって状況が異なるであろうことが予測される。"
   ]
  },
  {
   "cell_type": "code",
   "execution_count": 4,
   "metadata": {
    "collapsed": false
   },
   "outputs": [
    {
     "data": {
      "text/html": [
       "<div>\n",
       "<table border=\"1\" class=\"dataframe\">\n",
       "  <thead>\n",
       "    <tr style=\"text-align: right;\">\n",
       "      <th></th>\n",
       "      <th></th>\n",
       "      <th></th>\n",
       "      <th></th>\n",
       "      <th></th>\n",
       "      <th></th>\n",
       "      <th>状況,合計</th>\n",
       "      <th>数</th>\n",
       "    </tr>\n",
       "    <tr>\n",
       "      <th>0歳</th>\n",
       "      <th>1歳</th>\n",
       "      <th>2歳</th>\n",
       "      <th>3歳</th>\n",
       "      <th>4歳</th>\n",
       "      <th>5歳</th>\n",
       "      <th></th>\n",
       "      <th></th>\n",
       "    </tr>\n",
       "  </thead>\n",
       "  <tbody>\n",
       "    <tr>\n",
       "      <th rowspan=\"21\" valign=\"top\"></th>\n",
       "      <th rowspan=\"9\" valign=\"top\"></th>\n",
       "      <th rowspan=\"7\" valign=\"top\"></th>\n",
       "      <th></th>\n",
       "      <th></th>\n",
       "      <th></th>\n",
       "      <td>NaN</td>\n",
       "      <td>1</td>\n",
       "    </tr>\n",
       "    <tr>\n",
       "      <th rowspan=\"3\" valign=\"top\">×</th>\n",
       "      <th rowspan=\"2\" valign=\"top\">×</th>\n",
       "      <th>×</th>\n",
       "      <td>24.0</td>\n",
       "      <td>4</td>\n",
       "    </tr>\n",
       "    <tr>\n",
       "      <th>○</th>\n",
       "      <td>0.0</td>\n",
       "      <td>1</td>\n",
       "    </tr>\n",
       "    <tr>\n",
       "      <th>○</th>\n",
       "      <th>×</th>\n",
       "      <td>1.0</td>\n",
       "      <td>1</td>\n",
       "    </tr>\n",
       "    <tr>\n",
       "      <th rowspan=\"3\" valign=\"top\">○</th>\n",
       "      <th>×</th>\n",
       "      <th>○</th>\n",
       "      <td>3.0</td>\n",
       "      <td>1</td>\n",
       "    </tr>\n",
       "    <tr>\n",
       "      <th rowspan=\"2\" valign=\"top\">○</th>\n",
       "      <th>×</th>\n",
       "      <td>0.0</td>\n",
       "      <td>1</td>\n",
       "    </tr>\n",
       "    <tr>\n",
       "      <th>○</th>\n",
       "      <td>1.0</td>\n",
       "      <td>2</td>\n",
       "    </tr>\n",
       "    <tr>\n",
       "      <th>×</th>\n",
       "      <th>×</th>\n",
       "      <th>×</th>\n",
       "      <th>×</th>\n",
       "      <td>37.0</td>\n",
       "      <td>6</td>\n",
       "    </tr>\n",
       "    <tr>\n",
       "      <th>○</th>\n",
       "      <th>○</th>\n",
       "      <th>×</th>\n",
       "      <th>○</th>\n",
       "      <td>0.0</td>\n",
       "      <td>1</td>\n",
       "    </tr>\n",
       "    <tr>\n",
       "      <th rowspan=\"11\" valign=\"top\">×</th>\n",
       "      <th rowspan=\"7\" valign=\"top\">×</th>\n",
       "      <th></th>\n",
       "      <th></th>\n",
       "      <th></th>\n",
       "      <td>0.0</td>\n",
       "      <td>8</td>\n",
       "    </tr>\n",
       "    <tr>\n",
       "      <th rowspan=\"4\" valign=\"top\">×</th>\n",
       "      <th rowspan=\"2\" valign=\"top\">×</th>\n",
       "      <th>×</th>\n",
       "      <td>32.0</td>\n",
       "      <td>5</td>\n",
       "    </tr>\n",
       "    <tr>\n",
       "      <th>○</th>\n",
       "      <td>11.0</td>\n",
       "      <td>2</td>\n",
       "    </tr>\n",
       "    <tr>\n",
       "      <th rowspan=\"2\" valign=\"top\">○</th>\n",
       "      <th>×</th>\n",
       "      <td>5.0</td>\n",
       "      <td>2</td>\n",
       "    </tr>\n",
       "    <tr>\n",
       "      <th>○</th>\n",
       "      <td>3.0</td>\n",
       "      <td>1</td>\n",
       "    </tr>\n",
       "    <tr>\n",
       "      <th rowspan=\"2\" valign=\"top\">○</th>\n",
       "      <th></th>\n",
       "      <th></th>\n",
       "      <td>1.0</td>\n",
       "      <td>1</td>\n",
       "    </tr>\n",
       "    <tr>\n",
       "      <th>○</th>\n",
       "      <th>×</th>\n",
       "      <td>2.0</td>\n",
       "      <td>2</td>\n",
       "    </tr>\n",
       "    <tr>\n",
       "      <th rowspan=\"4\" valign=\"top\">○</th>\n",
       "      <th></th>\n",
       "      <th></th>\n",
       "      <th></th>\n",
       "      <td>1.0</td>\n",
       "      <td>1</td>\n",
       "    </tr>\n",
       "    <tr>\n",
       "      <th>×</th>\n",
       "      <th>○</th>\n",
       "      <th>×</th>\n",
       "      <td>1.0</td>\n",
       "      <td>1</td>\n",
       "    </tr>\n",
       "    <tr>\n",
       "      <th rowspan=\"2\" valign=\"top\">○</th>\n",
       "      <th rowspan=\"2\" valign=\"top\">○</th>\n",
       "      <th>×</th>\n",
       "      <td>4.0</td>\n",
       "      <td>1</td>\n",
       "    </tr>\n",
       "    <tr>\n",
       "      <th>○</th>\n",
       "      <td>2.0</td>\n",
       "      <td>4</td>\n",
       "    </tr>\n",
       "    <tr>\n",
       "      <th>○</th>\n",
       "      <th>○</th>\n",
       "      <th>○</th>\n",
       "      <th>○</th>\n",
       "      <th>○</th>\n",
       "      <td>0.0</td>\n",
       "      <td>1</td>\n",
       "    </tr>\n",
       "    <tr>\n",
       "      <th rowspan=\"26\" valign=\"top\">×</th>\n",
       "      <th></th>\n",
       "      <th></th>\n",
       "      <th></th>\n",
       "      <th></th>\n",
       "      <th></th>\n",
       "      <td>5.0</td>\n",
       "      <td>17</td>\n",
       "    </tr>\n",
       "    <tr>\n",
       "      <th rowspan=\"20\" valign=\"top\">×</th>\n",
       "      <th></th>\n",
       "      <th></th>\n",
       "      <th></th>\n",
       "      <th></th>\n",
       "      <td>6.0</td>\n",
       "      <td>2</td>\n",
       "    </tr>\n",
       "    <tr>\n",
       "      <th rowspan=\"11\" valign=\"top\">×</th>\n",
       "      <th></th>\n",
       "      <th></th>\n",
       "      <th></th>\n",
       "      <td>58.0</td>\n",
       "      <td>68</td>\n",
       "    </tr>\n",
       "    <tr>\n",
       "      <th rowspan=\"5\" valign=\"top\">×</th>\n",
       "      <th></th>\n",
       "      <th></th>\n",
       "      <td>3.0</td>\n",
       "      <td>1</td>\n",
       "    </tr>\n",
       "    <tr>\n",
       "      <th rowspan=\"2\" valign=\"top\">×</th>\n",
       "      <th>×</th>\n",
       "      <td>1559.0</td>\n",
       "      <td>124</td>\n",
       "    </tr>\n",
       "    <tr>\n",
       "      <th>○</th>\n",
       "      <td>161.0</td>\n",
       "      <td>11</td>\n",
       "    </tr>\n",
       "    <tr>\n",
       "      <th rowspan=\"2\" valign=\"top\">○</th>\n",
       "      <th>×</th>\n",
       "      <td>141.0</td>\n",
       "      <td>16</td>\n",
       "    </tr>\n",
       "    <tr>\n",
       "      <th>○</th>\n",
       "      <td>141.0</td>\n",
       "      <td>20</td>\n",
       "    </tr>\n",
       "    <tr>\n",
       "      <th rowspan=\"5\" valign=\"top\">○</th>\n",
       "      <th></th>\n",
       "      <th></th>\n",
       "      <td>0.0</td>\n",
       "      <td>1</td>\n",
       "    </tr>\n",
       "    <tr>\n",
       "      <th rowspan=\"2\" valign=\"top\">×</th>\n",
       "      <th>×</th>\n",
       "      <td>38.0</td>\n",
       "      <td>4</td>\n",
       "    </tr>\n",
       "    <tr>\n",
       "      <th>○</th>\n",
       "      <td>16.0</td>\n",
       "      <td>3</td>\n",
       "    </tr>\n",
       "    <tr>\n",
       "      <th rowspan=\"2\" valign=\"top\">○</th>\n",
       "      <th>×</th>\n",
       "      <td>3.0</td>\n",
       "      <td>1</td>\n",
       "    </tr>\n",
       "    <tr>\n",
       "      <th>○</th>\n",
       "      <td>56.0</td>\n",
       "      <td>9</td>\n",
       "    </tr>\n",
       "    <tr>\n",
       "      <th rowspan=\"8\" valign=\"top\">○</th>\n",
       "      <th></th>\n",
       "      <th></th>\n",
       "      <th></th>\n",
       "      <td>13.0</td>\n",
       "      <td>5</td>\n",
       "    </tr>\n",
       "    <tr>\n",
       "      <th rowspan=\"4\" valign=\"top\">×</th>\n",
       "      <th rowspan=\"2\" valign=\"top\">×</th>\n",
       "      <th>×</th>\n",
       "      <td>46.0</td>\n",
       "      <td>6</td>\n",
       "    </tr>\n",
       "    <tr>\n",
       "      <th>○</th>\n",
       "      <td>5.0</td>\n",
       "      <td>1</td>\n",
       "    </tr>\n",
       "    <tr>\n",
       "      <th rowspan=\"2\" valign=\"top\">○</th>\n",
       "      <th>×</th>\n",
       "      <td>8.0</td>\n",
       "      <td>2</td>\n",
       "    </tr>\n",
       "    <tr>\n",
       "      <th>○</th>\n",
       "      <td>26.0</td>\n",
       "      <td>4</td>\n",
       "    </tr>\n",
       "    <tr>\n",
       "      <th rowspan=\"3\" valign=\"top\">○</th>\n",
       "      <th>×</th>\n",
       "      <th>○</th>\n",
       "      <td>6.0</td>\n",
       "      <td>1</td>\n",
       "    </tr>\n",
       "    <tr>\n",
       "      <th rowspan=\"2\" valign=\"top\">○</th>\n",
       "      <th>×</th>\n",
       "      <td>3.0</td>\n",
       "      <td>1</td>\n",
       "    </tr>\n",
       "    <tr>\n",
       "      <th>○</th>\n",
       "      <td>10.0</td>\n",
       "      <td>5</td>\n",
       "    </tr>\n",
       "    <tr>\n",
       "      <th rowspan=\"5\" valign=\"top\">○</th>\n",
       "      <th rowspan=\"2\" valign=\"top\">×</th>\n",
       "      <th>×</th>\n",
       "      <th>×</th>\n",
       "      <th>×</th>\n",
       "      <td>7.0</td>\n",
       "      <td>1</td>\n",
       "    </tr>\n",
       "    <tr>\n",
       "      <th>○</th>\n",
       "      <th>○</th>\n",
       "      <th>○</th>\n",
       "      <td>6.0</td>\n",
       "      <td>2</td>\n",
       "    </tr>\n",
       "    <tr>\n",
       "      <th rowspan=\"3\" valign=\"top\">○</th>\n",
       "      <th></th>\n",
       "      <th></th>\n",
       "      <th></th>\n",
       "      <td>3.0</td>\n",
       "      <td>3</td>\n",
       "    </tr>\n",
       "    <tr>\n",
       "      <th>×</th>\n",
       "      <th>×</th>\n",
       "      <th>○</th>\n",
       "      <td>3.0</td>\n",
       "      <td>1</td>\n",
       "    </tr>\n",
       "    <tr>\n",
       "      <th>○</th>\n",
       "      <th>○</th>\n",
       "      <th>○</th>\n",
       "      <td>4.0</td>\n",
       "      <td>1</td>\n",
       "    </tr>\n",
       "    <tr>\n",
       "      <th rowspan=\"8\" valign=\"top\">○</th>\n",
       "      <th></th>\n",
       "      <th></th>\n",
       "      <th></th>\n",
       "      <th></th>\n",
       "      <th></th>\n",
       "      <td>0.0</td>\n",
       "      <td>3</td>\n",
       "    </tr>\n",
       "    <tr>\n",
       "      <th rowspan=\"4\" valign=\"top\">×</th>\n",
       "      <th rowspan=\"3\" valign=\"top\">×</th>\n",
       "      <th></th>\n",
       "      <th></th>\n",
       "      <th></th>\n",
       "      <td>1.0</td>\n",
       "      <td>1</td>\n",
       "    </tr>\n",
       "    <tr>\n",
       "      <th>×</th>\n",
       "      <th>×</th>\n",
       "      <th>×</th>\n",
       "      <td>71.0</td>\n",
       "      <td>7</td>\n",
       "    </tr>\n",
       "    <tr>\n",
       "      <th>○</th>\n",
       "      <th>○</th>\n",
       "      <th>○</th>\n",
       "      <td>1.0</td>\n",
       "      <td>1</td>\n",
       "    </tr>\n",
       "    <tr>\n",
       "      <th>○</th>\n",
       "      <th>○</th>\n",
       "      <th>○</th>\n",
       "      <th>○</th>\n",
       "      <td>3.0</td>\n",
       "      <td>4</td>\n",
       "    </tr>\n",
       "    <tr>\n",
       "      <th rowspan=\"3\" valign=\"top\">○</th>\n",
       "      <th rowspan=\"3\" valign=\"top\">○</th>\n",
       "      <th></th>\n",
       "      <th></th>\n",
       "      <th></th>\n",
       "      <td>2.0</td>\n",
       "      <td>3</td>\n",
       "    </tr>\n",
       "    <tr>\n",
       "      <th>×</th>\n",
       "      <th>×</th>\n",
       "      <th>×</th>\n",
       "      <td>1.0</td>\n",
       "      <td>1</td>\n",
       "    </tr>\n",
       "    <tr>\n",
       "      <th>○</th>\n",
       "      <th>○</th>\n",
       "      <th>○</th>\n",
       "      <td>7.0</td>\n",
       "      <td>3</td>\n",
       "    </tr>\n",
       "  </tbody>\n",
       "</table>\n",
       "</div>"
      ],
      "text/plain": [
       "                    状況,合計    数\n",
       "0歳 1歳 2歳 3歳 4歳 5歳             \n",
       "                      NaN    1\n",
       "         ×  ×  ×     24.0    4\n",
       "               ○      0.0    1\n",
       "            ○  ×      1.0    1\n",
       "         ○  ×  ○      3.0    1\n",
       "            ○  ×      0.0    1\n",
       "               ○      1.0    2\n",
       "      ×  ×  ×  ×     37.0    6\n",
       "      ○  ○  ×  ○      0.0    1\n",
       "   ×  ×               0.0    8\n",
       "         ×  ×  ×     32.0    5\n",
       "               ○     11.0    2\n",
       "            ○  ×      5.0    2\n",
       "               ○      3.0    1\n",
       "         ○            1.0    1\n",
       "            ○  ×      2.0    2\n",
       "      ○               1.0    1\n",
       "         ×  ○  ×      1.0    1\n",
       "         ○  ○  ×      4.0    1\n",
       "               ○      2.0    4\n",
       "   ○  ○  ○  ○  ○      0.0    1\n",
       "×                     5.0   17\n",
       "   ×                  6.0    2\n",
       "      ×              58.0   68\n",
       "         ×            3.0    1\n",
       "            ×  ×   1559.0  124\n",
       "               ○    161.0   11\n",
       "            ○  ×    141.0   16\n",
       "               ○    141.0   20\n",
       "         ○            0.0    1\n",
       "            ×  ×     38.0    4\n",
       "               ○     16.0    3\n",
       "            ○  ×      3.0    1\n",
       "               ○     56.0    9\n",
       "      ○              13.0    5\n",
       "         ×  ×  ×     46.0    6\n",
       "               ○      5.0    1\n",
       "            ○  ×      8.0    2\n",
       "               ○     26.0    4\n",
       "         ○  ×  ○      6.0    1\n",
       "            ○  ×      3.0    1\n",
       "               ○     10.0    5\n",
       "   ○  ×  ×  ×  ×      7.0    1\n",
       "         ○  ○  ○      6.0    2\n",
       "      ○               3.0    3\n",
       "         ×  ×  ○      3.0    1\n",
       "         ○  ○  ○      4.0    1\n",
       "○                     0.0    3\n",
       "   ×  ×               1.0    1\n",
       "         ×  ×  ×     71.0    7\n",
       "         ○  ○  ○      1.0    1\n",
       "      ○  ○  ○  ○      3.0    4\n",
       "   ○  ○               2.0    3\n",
       "         ×  ×  ×      1.0    1\n",
       "         ○  ○  ○      7.0    3"
      ]
     },
     "execution_count": 4,
     "metadata": {},
     "output_type": "execute_result"
    }
   ],
   "source": [
    "r = pd.concat([nib, pd.Series([1]*len(nib.index), index=nib.index, name=\"数\")], axis=1)\n",
    "r1 = r.replace(\"〇\",\"○\").rename(columns=dict(zip(k4,k3)))\n",
    "r1[k3+[\"状況,合計\",\"数\"]].groupby(k3).sum()"
   ]
  },
  {
   "cell_type": "markdown",
   "metadata": {},
   "source": [
    "## 地理分布\n",
    "\n",
    "単位児童当たりの申込児童数の、地理分布を求める。区域については、施設の位置からボロノイ図で領域を分割し、国勢調査の領域との積をとって分析する。\n",
    "\n",
    "同一住所に複数の施設が存在したりするので、まず位置情報だけで分割できるようにする。"
   ]
  },
  {
   "cell_type": "code",
   "execution_count": 5,
   "metadata": {
    "collapsed": false
   },
   "outputs": [],
   "source": [
    "coords_nib = [r.coords[0] for _,r in nib.geometry.iteritems()]\n",
    "coords = []\n",
    "for c in coords_nib:\n",
    "    if c not in coords:\n",
    "        coords.append(c)\n",
    "\n",
    "pts = gpd.GeoDataFrame([{\"geometry\":Point(x,y)} for x,y in coords], crs=\"+init=epsg:4326\")\n",
    "nib_pti = pd.Series([coords.index(c) for c in coords_nib], index=nib.index)"
   ]
  },
  {
   "cell_type": "markdown",
   "metadata": {},
   "source": [
    "e-Stat の区域データを読み込む。"
   ]
  },
  {
   "cell_type": "code",
   "execution_count": 6,
   "metadata": {
    "collapsed": false
   },
   "outputs": [],
   "source": [
    "us = [gpd.read_file(f) for f in glob.glob(\"../data/estat/h22ka281*.shp\")]\n",
    "pib_ = gpd.GeoDataFrame(pd.concat(us, ignore_index=True), crs=us[0].crs)\n",
    "pib = pib_[(pib_[\"MOJI\"]!=\"水面\") & (pib_[\"MOJI\"].isnull()==False)] # 海上を取り除く\n",
    "\n",
    "be = [(\"minx\",min), (\"miny\",min), (\"maxx\",max), (\"maxy\",max)]\n",
    "pib_ext = [Point([be[j][1](pib.bounds[be[j][0]]) for j in i])\n",
    "   for i in ((0,1),(2,1),(2,3),(0,3))]"
   ]
  },
  {
   "cell_type": "markdown",
   "metadata": {},
   "source": [
    "神戸市の人口データを読み込む。"
   ]
  },
  {
   "cell_type": "code",
   "execution_count": 7,
   "metadata": {
    "collapsed": false
   },
   "outputs": [],
   "source": [
    "ages=[\"%d歳\" % i for i in range(100)]+[\"100歳以上\"]\n",
    "def load_zensi(fname):\n",
    "    e = pd.ExcelFile(fname)\n",
    "    opts = dict(skiprows=1, converters={\"区コード\":str, \"町コード\":str})\n",
    "    dfs = [e.parse(s, **opts).iloc[1:,:] for s in e.sheet_names if s != \"神戸市\"]\n",
    "    return pd.DataFrame(pd.concat(dfs, ignore_index=True))\n",
    "\n",
    "zib_ = load_zensi(\"../data/kobe/zensi2808.xls\")\n",
    "# 直接 KEYCODE1 が引けるなら、それを採用\n",
    "zib = zib_.assign(KEYCODE1=lambda df:df[\"町コード\"][df[\"町コード\"].isin(set(pib[\"KEYCODE1\"]))])\n",
    "# 引けなければ、緯度経度から解決を試みる\n",
    "qname = zib_.apply(lambda r:\"神戸市 %s %s\" % (r[\"区・支所\"].replace(\"支所\",\"\"), r[\"町名\"]), axis=1)\n",
    "try:\n",
    "    cache = pd.read_json(open(\"../cache/kobe.json\", encoding=\"UTF-8\")).T\n",
    "except:\n",
    "    cache = pd.DataFrame([], columns=[\"lat\", \"lng\"])\n",
    "\n",
    "qn = pd.DataFrame(qname, columns=[\"qname\"])\n",
    "qa = qn[zib[\"町コード\"].isin(set(pib[\"KEYCODE1\"]))==False].join(cache, on=\"qname\", how=\"inner\")\n",
    "pt = gpd.GeoDataFrame(qa.apply(lambda r:Point(r[\"lng\"], r[\"lat\"]), axis=1), columns=[\"geometry\"], crs=\"+init=epsg:4326\")\n",
    "pt_mv = gpd.tools.sjoin(pt, pib.to_crs(\"+init=epsg:4326\"), op=\"within\")\n",
    "zib.loc[pt_mv.index, \"KEYCODE1\"] = pt_mv[\"KEYCODE1\"]"
   ]
  },
  {
   "cell_type": "markdown",
   "metadata": {},
   "source": [
    "ボロノイ図関連のルーチンを用意する。"
   ]
  },
  {
   "cell_type": "code",
   "execution_count": 8,
   "metadata": {
    "collapsed": true
   },
   "outputs": [],
   "source": [
    "def voronoi(npts):\n",
    "    # Add extra points to create closed Polygon for all facilities\n",
    "    ext = []\n",
    "    for pt in pib_ext:\n",
    "        dist = npts.distance(pt)\n",
    "        n = npts[dist==min(dist)].geometry.iloc[0]\n",
    "        ext.append(Point(pt.x*2 - n.x, pt.y*2 - n.y))\n",
    "\n",
    "    npts_ext = gpd.GeoDataFrame([dict(geometry=p, dummy=1) for p in ext])\n",
    "    g = gpd.GeoDataFrame(pd.concat([npts, npts_ext], ignore_index=True))\n",
    "    v = scipy.spatial.Voronoi([p.coords[0] for i,p in g.geometry.iteritems()])\n",
    "    return v\n",
    "\n",
    "def voronoi2region(npts, v, **kwargs):\n",
    "    vp = [dict(geometry=Polygon([v.vertices[vt] for vt in v.regions[r]]),\n",
    "            npti=npts.index[i], **kwargs)\n",
    "        for i,r in enumerate(v.point_region) if -1 not in v.regions[r]]\n",
    "    vnu2 = gpd.GeoDataFrame(vp)\n",
    "    assert vnu2.shape[0] == npts.shape[0]\n",
    "    return vnu2\n",
    "\n",
    "def voronoi_neighbors(npts, v):\n",
    "    rp = v.ridge_points\n",
    "    return {npts.index[i]:\n",
    "        [npts.index[j] for j in list(rp[rp[:,0]==i][:,1]) + list(rp[rp[:,1]==i][:,0])\n",
    "            if j < len(npts.index)]\n",
    "        for i in range(len(v.points))\n",
    "            if i < len(npts.index)}\n",
    "\n",
    "def regions(npts, **kwargs):\n",
    "    return voronoi2region(npts, voronoi(npts), **kwargs)"
   ]
  },
  {
   "cell_type": "markdown",
   "metadata": {},
   "source": [
    "## 5歳児\n",
    "\n",
    "手始めに 5 歳児の申込数を地図上に表現してみる。"
   ]
  },
  {
   "cell_type": "code",
   "execution_count": 9,
   "metadata": {
    "collapsed": false
   },
   "outputs": [],
   "source": [
    "nibi = nib[\"状況,申込児童数 ５歳児\"].isnull()==False\n",
    "nib2 = nib[nibi]\n",
    "# CRS は面積の計算できる座標系に揃える。\n",
    "pt2 = pts.to_crs(pib.crs).loc[set(nib_pti[nibi])]\n",
    "v = voronoi(pt2)\n",
    "r2 = voronoi2region(pt2, v)\n",
    "pt2_neigh = voronoi_neighbors(pt2, v)"
   ]
  },
  {
   "cell_type": "code",
   "execution_count": 10,
   "metadata": {
    "collapsed": true
   },
   "outputs": [],
   "source": [
    "# この計算は重い！\n",
    "ta = gpd.overlay(pib, r2, how=\"union\")"
   ]
  },
  {
   "cell_type": "code",
   "execution_count": 11,
   "metadata": {
    "collapsed": false
   },
   "outputs": [],
   "source": [
    "tv = ta[ta[\"KEYCODE1\"].isnull()==False]\n",
    "tv.crs = pib.crs\n",
    "\n",
    "tv_pop = pd.Series(0, index=tv.index, name=\"児童数\")\n",
    "k_pop = zib.fillna(0).groupby(\"KEYCODE1\").sum()\n",
    "for k in set(pib[\"KEYCODE1\"]):\n",
    "    if k not in k_pop.index:\n",
    "        continue\n",
    "    t = tv[tv[\"KEYCODE1\"]==k]\n",
    "    w = t.geometry.area / sum(t.geometry.area) * k_pop.loc[k, \"5歳\"]\n",
    "    tv_pop[t.index] += w"
   ]
  },
  {
   "cell_type": "markdown",
   "metadata": {},
   "source": [
    "5歳児の人数の合計値が正しいか検算する。"
   ]
  },
  {
   "cell_type": "code",
   "execution_count": 12,
   "metadata": {
    "collapsed": false
   },
   "outputs": [
    {
     "data": {
      "text/plain": [
       "(12865.0, 12864.999999999987)"
      ]
     },
     "execution_count": 12,
     "metadata": {},
     "output_type": "execute_result"
    }
   ],
   "source": [
    "zib[\"5歳\"].sum(), tv_pop.sum()"
   ]
  },
  {
   "cell_type": "markdown",
   "metadata": {},
   "source": [
    "申込数を児童数に応じて配分する。"
   ]
  },
  {
   "cell_type": "code",
   "execution_count": 13,
   "metadata": {
    "collapsed": false
   },
   "outputs": [],
   "source": [
    "tv_wait = pd.Series(0, index=tv.index, name=\"申込数\")\n",
    "for ri,r in nib2[nib2[\"状況,申込児童数 ５歳児\"]>0].iterrows():\n",
    "    pti = nib_pti[ri]\n",
    "    t = tv[tv[\"npti\"].isin([pti]+pt2_neigh[pti])]\n",
    "    x = tv_pop[t.index] / tv_pop[t.index].sum() * r[\"状況,申込児童数 ５歳児\"]\n",
    "    tv_wait[t.index] += x"
   ]
  },
  {
   "cell_type": "markdown",
   "metadata": {},
   "source": [
    "申込児童数の合計値が正しいか検算する。"
   ]
  },
  {
   "cell_type": "code",
   "execution_count": 14,
   "metadata": {
    "collapsed": false
   },
   "outputs": [
    {
     "data": {
      "text/plain": [
       "(50.0, 49.999999999999744)"
      ]
     },
     "execution_count": 14,
     "metadata": {},
     "output_type": "execute_result"
    }
   ],
   "source": [
    "nib2[\"状況,申込児童数 ５歳児\"].sum(), tv_wait.sum()"
   ]
  },
  {
   "cell_type": "markdown",
   "metadata": {},
   "source": [
    "地図上にプロットするとこのようになる。`bwr` カラーマップでは、赤が激戦区となる。"
   ]
  },
  {
   "cell_type": "code",
   "execution_count": 15,
   "metadata": {
    "collapsed": false
   },
   "outputs": [
    {
     "data": {
      "text/plain": [
       "<matplotlib.axes._subplots.AxesSubplot at 0x15f40c9c358>"
      ]
     },
     "execution_count": 15,
     "metadata": {},
     "output_type": "execute_result"
    },
    {
     "data": {
      "image/png": "[encoded data removed]",
      "text/plain": [
       "<matplotlib.figure.Figure at 0x15f40cf0898>"
      ]
     },
     "metadata": {},
     "output_type": "display_data"
    }
   ],
   "source": [
    "t = pd.concat([tv[\"geometry\"], tv_pop, tv_wait/tv_pop], axis=1).rename(columns={0:\"rate\"})\n",
    "g = gpd.GeoDataFrame(t[tv_pop!=0])\n",
    "g.plot(column=\"rate\", cmap=\"bwr\", linewidth=0)"
   ]
  }
 ],
 "metadata": {
  "kernelspec": {
   "display_name": "Python [geo]",
   "language": "python",
   "name": "Python [geo]"
  },
  "language_info": {
   "codemirror_mode": {
    "name": "ipython",
    "version": 3
   },
   "file_extension": ".py",
   "mimetype": "text/x-python",
   "name": "python",
   "nbconvert_exporter": "python",
   "pygments_lexer": "ipython3",
   "version": "3.5.2"
  }
 },
 "nbformat": 4,
 "nbformat_minor": 0
}
